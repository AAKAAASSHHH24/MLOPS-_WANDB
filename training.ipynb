{
  "nbformat": 4,
  "nbformat_minor": 0,
  "metadata": {
    "colab": {
      "provenance": [],
      "authorship_tag": "ABX9TyPmFglAPA3X8LZYZ+MRBkgV",
      "include_colab_link": true
    },
    "kernelspec": {
      "name": "python3",
      "display_name": "Python 3"
    },
    "language_info": {
      "name": "python"
    },
    "gpuClass": "standard"
  },
  "cells": [
    {
      "cell_type": "markdown",
      "metadata": {
        "id": "view-in-github",
        "colab_type": "text"
      },
      "source": [
        "<a href=\"https://colab.research.google.com/github/AAKAAASSHHH24/MLOPS-_WANDB/blob/main/training.ipynb\" target=\"_parent\"><img src=\"https://colab.research.google.com/assets/colab-badge.svg\" alt=\"Open In Colab\"/></a>"
      ]
    },
    {
      "cell_type": "markdown",
      "source": [
        "Here we will use FAST AI\n"
      ],
      "metadata": {
        "id": "fjEm_ZVZRX3J"
      }
    },
    {
      "cell_type": "markdown",
      "source": [
        "we will create a baseline solution to our semantic segmentation problem. To iterate fast a notebook is a handy solution. We will then refactor this code into a script to be able to use hyperparameter sweeps."
      ],
      "metadata": {
        "id": "FGhxAEP0Rh9d"
      }
    },
    {
      "cell_type": "code",
      "source": [
        "from google.colab import drive\n",
        "drive.mount('/content/drive')"
      ],
      "metadata": {
        "colab": {
          "base_uri": "https://localhost:8080/"
        },
        "id": "aFhtrRs8SZVx",
        "outputId": "6bfa1309-5481-4170-8442-3a677e82c3f3"
      },
      "execution_count": 1,
      "outputs": [
        {
          "output_type": "stream",
          "name": "stdout",
          "text": [
            "Mounted at /content/drive\n"
          ]
        }
      ]
    },
    {
      "cell_type": "code",
      "source": [
        "import os\n",
        "ROOT = '/content/drive/MyDrive/WnB'\n",
        "os.chdir(ROOT)\n",
        "     "
      ],
      "metadata": {
        "id": "ZLqCgVI5SceD"
      },
      "execution_count": 2,
      "outputs": []
    },
    {
      "cell_type": "code",
      "source": [
        "# Install Weights & Biases logging library\n",
        "!pip install wandb -qU"
      ],
      "metadata": {
        "colab": {
          "base_uri": "https://localhost:8080/"
        },
        "id": "J1zHBT0cSWUc",
        "outputId": "db7640c6-9c3f-4c7b-f340-fca9d14ed785"
      },
      "execution_count": 3,
      "outputs": [
        {
          "output_type": "stream",
          "name": "stdout",
          "text": [
            "\u001b[2K     \u001b[90m━━━━━━━━━━━━━━━━━━━━━━━━━━━━━━━━━━━━━━━━\u001b[0m \u001b[32m1.9/1.9 MB\u001b[0m \u001b[31m49.5 MB/s\u001b[0m eta \u001b[36m0:00:00\u001b[0m\n",
            "\u001b[2K     \u001b[90m━━━━━━━━━━━━━━━━━━━━━━━━━━━━━━━━━━━━━━\u001b[0m \u001b[32m174.3/174.3 KB\u001b[0m \u001b[31m21.1 MB/s\u001b[0m eta \u001b[36m0:00:00\u001b[0m\n",
            "\u001b[?25h  Preparing metadata (setup.py) ... \u001b[?25l\u001b[?25hdone\n",
            "\u001b[2K     \u001b[90m━━━━━━━━━━━━━━━━━━━━━━━━━━━━━━━━━━━━━━\u001b[0m \u001b[32m184.0/184.0 KB\u001b[0m \u001b[31m19.0 MB/s\u001b[0m eta \u001b[36m0:00:00\u001b[0m\n",
            "\u001b[2K     \u001b[90m━━━━━━━━━━━━━━━━━━━━━━━━━━━━━━━━━━━━━━━━\u001b[0m \u001b[32m62.7/62.7 KB\u001b[0m \u001b[31m7.9 MB/s\u001b[0m eta \u001b[36m0:00:00\u001b[0m\n",
            "\u001b[2K     \u001b[90m━━━━━━━━━━━━━━━━━━━━━━━━━━━━━━━━━━━━━━\u001b[0m \u001b[32m140.6/140.6 KB\u001b[0m \u001b[31m19.1 MB/s\u001b[0m eta \u001b[36m0:00:00\u001b[0m\n",
            "\u001b[?25h  Building wheel for pathtools (setup.py) ... \u001b[?25l\u001b[?25hdone\n"
          ]
        }
      ]
    },
    {
      "cell_type": "code",
      "execution_count": 4,
      "metadata": {
        "id": "13R7R-VQQ9Oz"
      },
      "outputs": [],
      "source": [
        "\n",
        "import wandb\n",
        "import pandas as pd\n",
        "from fastai.vision.all import *\n",
        "from fastai.callback.wandb import WandbCallback\n",
        "\n",
        "import params\n",
        "from utils import get_predictions, create_iou_table, MIOU, BackgroundIOU, \\\n",
        "                  RoadIOU, TrafficLightIOU, TrafficSignIOU, PersonIOU, VehicleIOU, BicycleIOU"
      ]
    },
    {
      "cell_type": "markdown",
      "source": [
        "Again, we're importing some global configuration parameters from params.py file. We have also defined some helper functions in utils.py - for example metrics we will track during our experiments.\n",
        "\n",
        "Let's now create a train_config that we'll pass to W&B run to control training hyperparameters."
      ],
      "metadata": {
        "id": "GWrXSdSzTp1n"
      }
    },
    {
      "cell_type": "code",
      "source": [
        "train_config = SimpleNamespace(\n",
        "    framework=\"fastai\",\n",
        "    img_size=(180, 320),\n",
        "    batch_size=8,\n",
        "    augment=True, # use data augmentation\n",
        "    epochs=10, \n",
        "    lr=2e-3,\n",
        "    pretrained=True,  # whether to use pretrained encoder\n",
        "    seed=42,\n",
        ")"
      ],
      "metadata": {
        "id": "sh-92G7VSqqO"
      },
      "execution_count": 5,
      "outputs": []
    },
    {
      "cell_type": "markdown",
      "source": [
        "We are setting seed for reproducibility."
      ],
      "metadata": {
        "id": "yzebz0UUUlzL"
      }
    },
    {
      "cell_type": "code",
      "source": [
        "set_seed(train_config.seed, reproducible=True)\n"
      ],
      "metadata": {
        "id": "UdXhhEGNUinp"
      },
      "execution_count": 6,
      "outputs": []
    },
    {
      "cell_type": "code",
      "source": [
        "run = wandb.init(project=params.WANDB_PROJECT, entity=params.ENTITY, job_type=\"training\", config=train_config)"
      ],
      "metadata": {
        "colab": {
          "base_uri": "https://localhost:8080/",
          "height": 193
        },
        "id": "z1cukhMIUp6i",
        "outputId": "ef8e95af-0a8a-4405-8b9f-a2633e6901f2"
      },
      "execution_count": 7,
      "outputs": [
        {
          "output_type": "stream",
          "name": "stderr",
          "text": [
            "ERROR:wandb.jupyter:Failed to detect the name of this notebook, you can set it manually with the WANDB_NOTEBOOK_NAME environment variable to enable code saving.\n"
          ]
        },
        {
          "output_type": "display_data",
          "data": {
            "text/plain": [
              "<IPython.core.display.Javascript object>"
            ],
            "application/javascript": [
              "\n",
              "        window._wandbApiKey = new Promise((resolve, reject) => {\n",
              "            function loadScript(url) {\n",
              "            return new Promise(function(resolve, reject) {\n",
              "                let newScript = document.createElement(\"script\");\n",
              "                newScript.onerror = reject;\n",
              "                newScript.onload = resolve;\n",
              "                document.body.appendChild(newScript);\n",
              "                newScript.src = url;\n",
              "            });\n",
              "            }\n",
              "            loadScript(\"https://cdn.jsdelivr.net/npm/postmate/build/postmate.min.js\").then(() => {\n",
              "            const iframe = document.createElement('iframe')\n",
              "            iframe.style.cssText = \"width:0;height:0;border:none\"\n",
              "            document.body.appendChild(iframe)\n",
              "            const handshake = new Postmate({\n",
              "                container: iframe,\n",
              "                url: 'https://wandb.ai/authorize'\n",
              "            });\n",
              "            const timeout = setTimeout(() => reject(\"Couldn't auto authenticate\"), 5000)\n",
              "            handshake.then(function(child) {\n",
              "                child.on('authorize', data => {\n",
              "                    clearTimeout(timeout)\n",
              "                    resolve(data)\n",
              "                });\n",
              "            });\n",
              "            })\n",
              "        });\n",
              "    "
            ]
          },
          "metadata": {}
        },
        {
          "output_type": "stream",
          "name": "stderr",
          "text": [
            "\u001b[34m\u001b[1mwandb\u001b[0m: Logging into wandb.ai. (Learn how to deploy a W&B server locally: https://wandb.me/wandb-server)\n",
            "\u001b[34m\u001b[1mwandb\u001b[0m: You can find your API key in your browser here: https://wandb.ai/authorize\n",
            "wandb: Paste an API key from your profile and hit enter, or press ctrl+c to quit: "
          ]
        },
        {
          "name": "stdout",
          "output_type": "stream",
          "text": [
            "··········\n"
          ]
        },
        {
          "output_type": "stream",
          "name": "stderr",
          "text": [
            "\u001b[34m\u001b[1mwandb\u001b[0m: Appending key for api.wandb.ai to your netrc file: /root/.netrc\n"
          ]
        },
        {
          "output_type": "display_data",
          "data": {
            "text/plain": [
              "<IPython.core.display.HTML object>"
            ],
            "text/html": [
              "Tracking run with wandb version 0.13.7"
            ]
          },
          "metadata": {}
        },
        {
          "output_type": "display_data",
          "data": {
            "text/plain": [
              "<IPython.core.display.HTML object>"
            ],
            "text/html": [
              "Run data is saved locally in <code>/content/drive/MyDrive/WnB/wandb/run-20230108_220806-21g20nca</code>"
            ]
          },
          "metadata": {}
        },
        {
          "output_type": "display_data",
          "data": {
            "text/plain": [
              "<IPython.core.display.HTML object>"
            ],
            "text/html": [
              "Syncing run <strong><a href=\"https://wandb.ai/caraxes/mlops-course-001/runs/21g20nca\" target=\"_blank\">silvery-vortex-3</a></strong> to <a href=\"https://wandb.ai/caraxes/mlops-course-001\" target=\"_blank\">Weights & Biases</a> (<a href=\"https://wandb.me/run\" target=\"_blank\">docs</a>)<br/>"
            ]
          },
          "metadata": {}
        }
      ]
    },
    {
      "cell_type": "markdown",
      "source": [
        "As usual, we will use W&B Artifacts to track the lineage of our models."
      ],
      "metadata": {
        "id": "VzmZLUyQU42S"
      }
    },
    {
      "cell_type": "code",
      "source": [
        "processed_data_at = run.use_artifact(f'{params.PROCESSED_DATA_AT}:latest')\n",
        "processed_dataset_dir = Path(processed_data_at.download())\n",
        "df = pd.read_csv(processed_dataset_dir / 'data_split.csv')"
      ],
      "metadata": {
        "colab": {
          "base_uri": "https://localhost:8080/"
        },
        "id": "8-_1BBlpUxkc",
        "outputId": "7973d193-0bc1-4b9e-83e2-b95130b3eaa4"
      },
      "execution_count": 8,
      "outputs": [
        {
          "output_type": "stream",
          "name": "stderr",
          "text": [
            "\u001b[34m\u001b[1mwandb\u001b[0m: Downloading large artifact bdd_simple_1k_split:latest, 813.25MB. 4010 files... \n",
            "\u001b[34m\u001b[1mwandb\u001b[0m:   4010 of 4010 files downloaded.  \n",
            "Done. 0:1:21.0\n"
          ]
        }
      ]
    },
    {
      "cell_type": "markdown",
      "source": [
        "We will not use the hold out dataset stage at this moment. is_valid column will tell our trainer how we want to split data between training and validation."
      ],
      "metadata": {
        "id": "K1LkhMYVX8g7"
      }
    },
    {
      "cell_type": "code",
      "source": [
        "df = df[df.Stage != 'test'].reset_index(drop=True)\n",
        "df['is_valid'] = df.Stage == 'valid'"
      ],
      "metadata": {
        "id": "wioX1lGXX9B0"
      },
      "execution_count": 9,
      "outputs": []
    },
    {
      "cell_type": "code",
      "source": [
        "def label_func(fname):\n",
        "    return (fname.parent.parent/\"labels\")/f\"{fname.stem}_mask.png\""
      ],
      "metadata": {
        "id": "LNZmil6zYAJF"
      },
      "execution_count": 10,
      "outputs": []
    },
    {
      "cell_type": "markdown",
      "source": [
        "We will use fastai's DataBlock API to feed data into model training and validation.\n",
        "\n",
        "It will transform our data into the right shape expected by our model"
      ],
      "metadata": {
        "id": "OZQu-dBoYHio"
      }
    },
    {
      "cell_type": "code",
      "source": [
        "# assign paths\n",
        "df[\"image_fname\"] = [processed_dataset_dir/f'images/{f}.jpg' for f in df.File_Name.values]\n",
        "df[\"label_fname\"] = [label_func(f) for f in df.image_fname.values]"
      ],
      "metadata": {
        "id": "JwQIpXPmYEJB"
      },
      "execution_count": 11,
      "outputs": []
    },
    {
      "cell_type": "code",
      "source": [
        "\n",
        "def get_data(df, bs=4, img_size=(180, 320), augment=True):\n",
        "    block = DataBlock(blocks=(ImageBlock, MaskBlock(codes=params.BDD_CLASSES)),\n",
        "                  get_x=ColReader(\"image_fname\"),\n",
        "                  get_y=ColReader(\"label_fname\"),\n",
        "                  splitter=ColSplitter(),\n",
        "                  item_tfms=Resize(img_size),\n",
        "                  batch_tfms=aug_transforms() if augment else None,\n",
        "                 )\n",
        "    return block.dataloaders(df, bs=bs)"
      ],
      "metadata": {
        "id": "KwowsuPXYLpb"
      },
      "execution_count": 12,
      "outputs": []
    },
    {
      "cell_type": "markdown",
      "source": [
        "We are using wandb.config to track our training hyperparameters."
      ],
      "metadata": {
        "id": "j3McXKXxYRLS"
      }
    },
    {
      "cell_type": "code",
      "source": [
        "config = wandb.config  # sets our hyperparameters like batch size or image size"
      ],
      "metadata": {
        "id": "Bdmpf-20YOtw"
      },
      "execution_count": 18,
      "outputs": []
    },
    {
      "cell_type": "code",
      "source": [
        "\n",
        "dls = get_data(df, bs=config.batch_size, img_size=config.img_size, augment=config.augment)\n",
        "#creates our data-loaders"
      ],
      "metadata": {
        "id": "MPQ5OdAeYUZa"
      },
      "execution_count": 24,
      "outputs": []
    },
    {
      "cell_type": "markdown",
      "source": [
        "We will use intersection over union metrics: mean across all classes (MIOU) and IOU for each class separately. Our model will be a unet based on pretrained resnet18 backbone."
      ],
      "metadata": {
        "id": "Y3sQaFCMYZgT"
      }
    },
    {
      "cell_type": "code",
      "source": [
        "metrics = [MIOU(), BackgroundIOU(), RoadIOU(), TrafficLightIOU(), \\\n",
        "           TrafficSignIOU(), PersonIOU(), VehicleIOU(), BicycleIOU()]\n",
        "\n",
        "learn = nn.Module.Learner()\n",
        "try:\n",
        "  learn = unet_learner(dls, arch=resnet18, pretrained=config.pretrained, metrics=metrics)\n",
        "except FileNotFoundError:\n",
        "  pass\n"
      ],
      "metadata": {
        "colab": {
          "base_uri": "https://localhost:8080/",
          "height": 235
        },
        "id": "XK8E-8glYXHA",
        "outputId": "aa878d56-c313-4125-f833-ac6351744aa0"
      },
      "execution_count": 46,
      "outputs": [
        {
          "output_type": "error",
          "ename": "AttributeError",
          "evalue": "ignored",
          "traceback": [
            "\u001b[0;31m---------------------------------------------------------------------------\u001b[0m",
            "\u001b[0;31mAttributeError\u001b[0m                            Traceback (most recent call last)",
            "\u001b[0;32m<ipython-input-46-b597cb865cc1>\u001b[0m in \u001b[0;36m<module>\u001b[0;34m\u001b[0m\n\u001b[1;32m      2\u001b[0m            TrafficSignIOU(), PersonIOU(), VehicleIOU(), BicycleIOU()]\n\u001b[1;32m      3\u001b[0m \u001b[0;34m\u001b[0m\u001b[0m\n\u001b[0;32m----> 4\u001b[0;31m \u001b[0mlearn\u001b[0m \u001b[0;34m=\u001b[0m \u001b[0mnn\u001b[0m\u001b[0;34m.\u001b[0m\u001b[0mModule\u001b[0m\u001b[0;34m.\u001b[0m\u001b[0mLearner\u001b[0m\u001b[0;34m(\u001b[0m\u001b[0;34m)\u001b[0m\u001b[0;34m\u001b[0m\u001b[0;34m\u001b[0m\u001b[0m\n\u001b[0m\u001b[1;32m      5\u001b[0m \u001b[0;32mtry\u001b[0m\u001b[0;34m:\u001b[0m\u001b[0;34m\u001b[0m\u001b[0;34m\u001b[0m\u001b[0m\n\u001b[1;32m      6\u001b[0m   \u001b[0mlearn\u001b[0m \u001b[0;34m=\u001b[0m \u001b[0munet_learner\u001b[0m\u001b[0;34m(\u001b[0m\u001b[0mdls\u001b[0m\u001b[0;34m,\u001b[0m \u001b[0march\u001b[0m\u001b[0;34m=\u001b[0m\u001b[0mresnet18\u001b[0m\u001b[0;34m,\u001b[0m \u001b[0mpretrained\u001b[0m\u001b[0;34m=\u001b[0m\u001b[0mconfig\u001b[0m\u001b[0;34m.\u001b[0m\u001b[0mpretrained\u001b[0m\u001b[0;34m,\u001b[0m \u001b[0mmetrics\u001b[0m\u001b[0;34m=\u001b[0m\u001b[0mmetrics\u001b[0m\u001b[0;34m)\u001b[0m\u001b[0;34m\u001b[0m\u001b[0;34m\u001b[0m\u001b[0m\n",
            "\u001b[0;31mAttributeError\u001b[0m: type object 'Module' has no attribute 'Learner'"
          ]
        }
      ]
    },
    {
      "cell_type": "markdown",
      "source": [
        "In fastai we already have a callback that integrates tightly with W&B, we only need to pass the WandbCallback to the learner and we are ready to go. The callback will log all the useful variables for us. For example, whatever metric we pass to the learner will be tracked by the callback.\n",
        "\n"
      ],
      "metadata": {
        "id": "RC8fjRvlYfw0"
      }
    },
    {
      "cell_type": "code",
      "source": [
        "callbacks = [\n",
        "    SaveModelCallback(monitor='miou'),\n",
        "    WandbCallback(log_preds=False, log_model=True)\n",
        "]"
      ],
      "metadata": {
        "id": "JkKSTUafYc78"
      },
      "execution_count": 37,
      "outputs": []
    },
    {
      "cell_type": "markdown",
      "source": [
        "Let's train our model!"
      ],
      "metadata": {
        "id": "h07aXjyzYlNi"
      }
    },
    {
      "cell_type": "code",
      "source": [
        "learn.fit_one_cycle(config.epochs, config.lr, cbs=callbacks)"
      ],
      "metadata": {
        "colab": {
          "base_uri": "https://localhost:8080/",
          "height": 165
        },
        "id": "CpM-O_fsYi6l",
        "outputId": "012c02a0-851e-4400-af3a-ae56b60e44c5"
      },
      "execution_count": 45,
      "outputs": [
        {
          "output_type": "error",
          "ename": "AttributeError",
          "evalue": "ignored",
          "traceback": [
            "\u001b[0;31m---------------------------------------------------------------------------\u001b[0m",
            "\u001b[0;31mAttributeError\u001b[0m                            Traceback (most recent call last)",
            "\u001b[0;32m<ipython-input-45-c7e89241b96e>\u001b[0m in \u001b[0;36m<module>\u001b[0;34m\u001b[0m\n\u001b[0;32m----> 1\u001b[0;31m \u001b[0mlearn\u001b[0m\u001b[0;34m.\u001b[0m\u001b[0mfit_one_cycle\u001b[0m\u001b[0;34m(\u001b[0m\u001b[0mconfig\u001b[0m\u001b[0;34m.\u001b[0m\u001b[0mepochs\u001b[0m\u001b[0;34m,\u001b[0m \u001b[0mconfig\u001b[0m\u001b[0;34m.\u001b[0m\u001b[0mlr\u001b[0m\u001b[0;34m,\u001b[0m \u001b[0mcbs\u001b[0m\u001b[0;34m=\u001b[0m\u001b[0mcallbacks\u001b[0m\u001b[0;34m)\u001b[0m\u001b[0;34m\u001b[0m\u001b[0;34m\u001b[0m\u001b[0m\n\u001b[0m",
            "\u001b[0;31mAttributeError\u001b[0m: 'int' object has no attribute 'fit_one_cycle'"
          ]
        }
      ]
    },
    {
      "cell_type": "markdown",
      "source": [
        "We will log a table with model predictions and ground truth to W&B, so that we can do error analysis in the W&B dashboard."
      ],
      "metadata": {
        "id": "xvmTVhNNYsQT"
      }
    },
    {
      "cell_type": "code",
      "source": [
        "samples, outputs, predictions = get_predictions(learn)\n",
        "table = create_iou_table(samples, outputs, predictions, params.BDD_CLASSES)\n",
        "wandb.log({\"pred_table\":table})"
      ],
      "metadata": {
        "id": "mBW0NjLDYpnO"
      },
      "execution_count": null,
      "outputs": []
    },
    {
      "cell_type": "markdown",
      "source": [
        "We are reloading the model from the best checkpoint at the end and saving it. To make sure we track the final metrics correctly, we will validate the model again and save the final loss and metrics to wandb.summary.\n",
        "\n"
      ],
      "metadata": {
        "id": "PBx7LEcqY2KK"
      }
    },
    {
      "cell_type": "code",
      "source": [
        "scores = learn.validate()\n",
        "metric_names = ['final_loss'] + [f'final_{x.name}' for x in metrics]\n",
        "final_results = {metric_names[i] : scores[i] for i in range(len(scores))}\n",
        "for k,v in final_results.items(): \n",
        "    wandb.summary[k] = v"
      ],
      "metadata": {
        "id": "TIeCa2kQYxBr"
      },
      "execution_count": null,
      "outputs": []
    },
    {
      "cell_type": "code",
      "source": [
        "\n",
        "wandb.finish()"
      ],
      "metadata": {
        "id": "I9Z5Pz9PY5Sy"
      },
      "execution_count": null,
      "outputs": []
    }
  ]
}